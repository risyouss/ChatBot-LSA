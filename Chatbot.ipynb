{
 "cells": [
  {
   "cell_type": "code",
   "execution_count": 2,
   "metadata": {},
   "outputs": [
    {
     "name": "stdout",
     "output_type": "stream",
     "text": [
      "C:\\Users\\oussa\\OneDrive\\Bureau\\ChatBot_BIBDA\n"
     ]
    }
   ],
   "source": [
    "%cd C:\\Users\\oussa\\OneDrive\\Bureau\\ChatBot_BIBDA"
   ]
  },
  {
   "cell_type": "code",
   "execution_count": 5,
   "metadata": {},
   "outputs": [
    {
     "name": "stdout",
     "output_type": "stream",
     "text": [
      "Loading Data Sources\n",
      "0       What are the requirements for me to adopt my n...\n",
      "1       how to have a properly adopted in accordance w...\n",
      "2       we have been raising our grandchild from birth...\n",
      "3       I was legally adopted since young. Many years ...\n",
      "4       Can an adoption be reversed? Both adoptive par...\n",
      "                              ...                        \n",
      "1542    Intentional insult with intent to provoke a br...\n",
      "1543                 Punishment for criminal intimidation\n",
      "1544    Criminal intimidation by an anonymous communic...\n",
      "1545    Act caused by inducing a person to believe tha...\n",
      "1546    Word or gesture intended to insult the modesty...\n",
      "Name: message, Length: 1547, dtype: object\n"
     ]
    },
    {
     "name": "stderr",
     "output_type": "stream",
     "text": [
      "[nltk_data] Downloading package punkt to\n",
      "[nltk_data]     C:\\Users\\oussa\\AppData\\Roaming\\nltk_data...\n",
      "[nltk_data]   Package punkt is already up-to-date!\n",
      "[nltk_data] Downloading package omw-1.4 to\n",
      "[nltk_data]     C:\\Users\\oussa\\AppData\\Roaming\\nltk_data...\n",
      "[nltk_data] Downloading package stopwords to\n",
      "[nltk_data]     C:\\Users\\oussa\\AppData\\Roaming\\nltk_data...\n",
      "[nltk_data]   Package stopwords is already up-to-date!\n",
      "[nltk_data] Downloading package wordnet to\n",
      "[nltk_data]     C:\\Users\\oussa\\AppData\\Roaming\\nltk_data...\n",
      "2023-04-19 20:16:43.847 \n",
      "  \u001b[33m\u001b[1mWarning:\u001b[0m to view this Streamlit app on a browser, run it with the following\n",
      "  command:\n",
      "\n",
      "    streamlit run chatbotdemo.py [ARGUMENTS]\n"
     ]
    }
   ],
   "source": [
    "!python chatbotdemo.py"
   ]
  },
  {
   "cell_type": "code",
   "execution_count": 8,
   "metadata": {},
   "outputs": [
    {
     "name": "stdout",
     "output_type": "stream",
     "text": [
      "^C\n"
     ]
    }
   ],
   "source": [
    "!streamlit run chatbotdemo.py"
   ]
  }
 ],
 "metadata": {
  "kernelspec": {
   "display_name": "Python 3",
   "language": "python",
   "name": "python3"
  },
  "language_info": {
   "codemirror_mode": {
    "name": "ipython",
    "version": 3
   },
   "file_extension": ".py",
   "mimetype": "text/x-python",
   "name": "python",
   "nbconvert_exporter": "python",
   "pygments_lexer": "ipython3",
   "version": "3.10.10"
  },
  "orig_nbformat": 4
 },
 "nbformat": 4,
 "nbformat_minor": 2
}
